{
  "nbformat": 4,
  "nbformat_minor": 0,
  "metadata": {
    "colab": {
      "provenance": [],
      "authorship_tag": "ABX9TyNtGJvmKXAXZH36IHseteyH",
      "include_colab_link": true
    },
    "kernelspec": {
      "name": "python3",
      "display_name": "Python 3"
    },
    "language_info": {
      "name": "python"
    }
  },
  "cells": [
    {
      "cell_type": "markdown",
      "metadata": {
        "id": "view-in-github",
        "colab_type": "text"
      },
      "source": [
        "<a href=\"https://colab.research.google.com/github/KamronbekSolih/Python-and-ML/blob/main/regression_measures.ipynb\" target=\"_parent\"><img src=\"https://colab.research.google.com/assets/colab-badge.svg\" alt=\"Open In Colab\"/></a>"
      ]
    },
    {
      "cell_type": "code",
      "execution_count": 3,
      "metadata": {
        "colab": {
          "base_uri": "https://localhost:8080/"
        },
        "id": "7GufCgzjNli2",
        "outputId": "4da4b576-444a-4675-c52a-608f6e85bea3"
      },
      "outputs": [
        {
          "output_type": "stream",
          "name": "stdout",
          "text": [
            "Predicted Grades:\n",
            " ['Grade: C' 'Grade: C' 'Grade: A' 'Grade: C' 'Grade: C' 'Grade: C'\n",
            " 'Grade: C' 'Grade: C' 'Grade: F' 'Grade: C' 'Grade: F' 'Grade: A'\n",
            " 'Grade: C' 'Grade: C' 'Grade: F' 'Grade: F' 'Grade: F' 'Grade: C'\n",
            " 'Grade: C' 'Grade: F' 'Grade: F' 'Grade: C' 'Grade: F']\n",
            "Actual Grades:\n",
            " ['Grade: C' 'Grade: C' 'Grade: A' 'Grade: A' 'Grade: B' 'Grade: B'\n",
            " 'Grade: C' 'Grade: C' 'Grade: F' 'Grade: C' 'Grade: F' 'Grade: A'\n",
            " 'Grade: C' 'Grade: C' 'Grade: F' 'Grade: F' 'Grade: F' 'Grade: C'\n",
            " 'Grade: B' 'Grade: F' 'Grade: F' 'Grade: C' 'Grade: F']\n",
            "Accuracy: 0.8260869565217391\n",
            "Classification Report:\n",
            "               precision    recall  f1-score   support\n",
            "\n",
            "    Grade: A       1.00      0.67      0.80         3\n",
            "    Grade: B       0.00      0.00      0.00         3\n",
            "    Grade: C       0.69      1.00      0.82         9\n",
            "    Grade: F       1.00      1.00      1.00         8\n",
            "\n",
            "    accuracy                           0.83        23\n",
            "   macro avg       0.67      0.67      0.65        23\n",
            "weighted avg       0.75      0.83      0.77        23\n",
            "\n"
          ]
        },
        {
          "output_type": "stream",
          "name": "stderr",
          "text": [
            "/usr/local/lib/python3.10/dist-packages/sklearn/metrics/_classification.py:1344: UndefinedMetricWarning: Precision and F-score are ill-defined and being set to 0.0 in labels with no predicted samples. Use `zero_division` parameter to control this behavior.\n",
            "  _warn_prf(average, modifier, msg_start, len(result))\n",
            "/usr/local/lib/python3.10/dist-packages/sklearn/metrics/_classification.py:1344: UndefinedMetricWarning: Precision and F-score are ill-defined and being set to 0.0 in labels with no predicted samples. Use `zero_division` parameter to control this behavior.\n",
            "  _warn_prf(average, modifier, msg_start, len(result))\n",
            "/usr/local/lib/python3.10/dist-packages/sklearn/metrics/_classification.py:1344: UndefinedMetricWarning: Precision and F-score are ill-defined and being set to 0.0 in labels with no predicted samples. Use `zero_division` parameter to control this behavior.\n",
            "  _warn_prf(average, modifier, msg_start, len(result))\n"
          ]
        }
      ],
      "source": [
        "# Classification reports\n",
        "import numpy as np\n",
        "import pandas as pd\n",
        "import matplotlib.pyplot as plt\n",
        "from sklearn.linear_model import LogisticRegression\n",
        "from sklearn.metrics import accuracy_score, classification_report\n",
        "\n",
        "# Load training and testing data\n",
        "train_data = pd.read_csv(\"student_data_train.csv\")\n",
        "test_data = pd.read_csv(\"student_data_test.csv\")\n",
        "\n",
        "# Prepare training data\n",
        "X_train = train_data[['Study Time', 'Sleep Time']].values\n",
        "y_train = train_data['Grade'].values\n",
        "\n",
        "# Prepare testing data\n",
        "X_test = test_data[['Study Time', 'Sleep Time']].values\n",
        "y_test = test_data['Grade'].values\n",
        "\n",
        "# Train a logistic regression model\n",
        "#clf = LogisticRegression(random_state=1, solver='lbfgs', max_iter=10000, multi_class='auto').fit(X_train, y_train)\n",
        "clf = LogisticRegression()\n",
        "clf.fit(X_train, y_train)\n",
        "\n",
        "# Predict on test data\n",
        "y_pred = clf.predict(X_test)\n",
        "\n",
        "# Calculate accuracy\n",
        "correct_predictions = np.sum(y_pred == y_test)\n",
        "total_predictions = len(y_test)\n",
        "accuracy = correct_predictions / total_predictions\n",
        "print('Predicted Grades:\\n', y_pred)\n",
        "print('Actual Grades:\\n', y_test)\n",
        "print('Accuracy:', accuracy)\n",
        "\n",
        "print(\"Classification Report:\\n\", classification_report(y_test, y_pred))\n",
        "\n",
        "\n"
      ]
    },
    {
      "cell_type": "code",
      "source": [
        "\n",
        "#########################################\n",
        "# R2 Coefficient of determination\n",
        "from sklearn.linear_model import LinearRegression\n",
        "from sklearn.metrics import mean_squared_error, r2_score\n",
        "import pandas as pd\n",
        "\n",
        "\n",
        "# Load training data\n",
        "train_data = pd.read_csv('data_1d.csv')\n",
        "x_train = train_data['x'].values\n",
        "y_train = train_data['y'].values\n",
        "\n",
        "# Load test data\n",
        "test_data = pd.read_csv('test_data_1d.csv')\n",
        "x_test = test_data['x'].values\n",
        "y_test = test_data['y'].values\n",
        "\n",
        "# Create and fit the linear regression model\n",
        "model = LinearRegression()\n",
        "model.fit(x_train.reshape(-1,1), y_train)\n",
        "\n",
        "# Make predictions on training and test data\n",
        "y_train_pred = model.predict(x_train.reshape(-1,1))\n",
        "y_test_pred = model.predict(x_test.reshape(-1,1))\n",
        "\n",
        "# Scatter plot\n",
        "plt.plot(y_test, y_test_pred, 'ro')\n",
        "plt.xlabel('True Values')\n",
        "plt.ylabel('Predictions')\n",
        "\n",
        "# Draw a diagonal line where true values = predicted values\n",
        "plt.plot([y_test.min(), y_test.max()], [y_test.min(), y_test.max()], 'k--')\n",
        "\n",
        "plt.title('True Values vs Predictions')\n",
        "plt.show()\n",
        "\n",
        "# Print R2 score\n",
        "print(\"R2: \", r2_score(y_test, y_test_pred))\n",
        "\n"
      ],
      "metadata": {
        "colab": {
          "base_uri": "https://localhost:8080/",
          "height": 490
        },
        "id": "oIsMJJLTOqq8",
        "outputId": "dc37e566-9f53-4a13-9fdc-2876ae7304cc"
      },
      "execution_count": 4,
      "outputs": [
        {
          "output_type": "display_data",
          "data": {
            "text/plain": [
              "<Figure size 640x480 with 1 Axes>"
            ],
            "image/png": "[encoded data removed]"
          },
          "metadata": {}
        },
        {
          "output_type": "stream",
          "name": "stdout",
          "text": [
            "R2:  0.8853422140844739\n"
          ]
        }
      ]
    },
    {
      "cell_type": "code",
      "source": [],
      "metadata": {
        "id": "BHrYgqjVYzH2"
      },
      "execution_count": null,
      "outputs": []
    }
  ]
}