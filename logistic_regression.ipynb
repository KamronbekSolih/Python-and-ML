{
  "nbformat": 4,
  "nbformat_minor": 0,
  "metadata": {
    "colab": {
      "provenance": [],
      "authorship_tag": "ABX9TyPgms3SJmTwe/smojpZTvwh",
      "include_colab_link": true
    },
    "kernelspec": {
      "name": "python3",
      "display_name": "Python 3"
    },
    "language_info": {
      "name": "python"
    }
  },
  "cells": [
    {
      "cell_type": "markdown",
      "metadata": {
        "id": "view-in-github",
        "colab_type": "text"
      },
      "source": [
        "<a href=\"https://colab.research.google.com/github/KamronbekSolih/Python-and-ML/blob/main/logistic_regression.ipynb\" target=\"_parent\"><img src=\"https://colab.research.google.com/assets/colab-badge.svg\" alt=\"Open In Colab\"/></a>"
      ]
    },
    {
      "cell_type": "markdown",
      "source": [
        "# Logistic regression\n"
      ],
      "metadata": {
        "id": "PQ8BSnHNDuoZ"
      }
    },
    {
      "cell_type": "code",
      "source": [
        "import numpy as np\n",
        "import pandas as pd\n",
        "from sklearn.linear_model import LogisticRegression"
      ],
      "metadata": {
        "id": "KGdqPeqkD0E1"
      },
      "execution_count": null,
      "outputs": []
    },
    {
      "cell_type": "code",
      "source": [
        "# Load training and testing data\n",
        "train_data = pd.read_csv(\"student_data_train.csv\")\n",
        "test_data = pd.read_csv(\"student_data_test.csv\")"
      ],
      "metadata": {
        "id": "orqgveotEh2a"
      },
      "execution_count": null,
      "outputs": []
    },
    {
      "cell_type": "code",
      "source": [
        "# preprocess training data\n",
        "X_train = train_data[['Study Time','Sleep Time']].values\n",
        "# print(X_train)\n",
        "y_train = np.where(train_data['Pass/Fail'] == 'Pass',1,0)\n"
      ],
      "metadata": {
        "id": "3A2_c_klE_4u"
      },
      "execution_count": null,
      "outputs": []
    },
    {
      "cell_type": "code",
      "source": [
        "# Train a logistic regression model\n",
        "\n",
        "clf = LogisticRegression().fit(X_train, y_train)\n",
        "clf.fit(X_train,y_train)\n"
      ],
      "metadata": {
        "colab": {
          "base_uri": "https://localhost:8080/",
          "height": 74
        },
        "id": "mLTePmI_FWh0",
        "outputId": "9f4e78b0-4314-4379-e40f-ef82b5200843"
      },
      "execution_count": null,
      "outputs": [
        {
          "output_type": "execute_result",
          "data": {
            "text/plain": [
              "LogisticRegression()"
            ],
            "text/html": [
              "<style>#sk-container-id-1 {color: black;background-color: white;}#sk-container-id-1 pre{padding: 0;}#sk-container-id-1 div.sk-toggleable {background-color: white;}#sk-container-id-1 label.sk-toggleable__label {cursor: pointer;display: block;width: 100%;margin-bottom: 0;padding: 0.3em;box-sizing: border-box;text-align: center;}#sk-container-id-1 label.sk-toggleable__label-arrow:before {content: \"▸\";float: left;margin-right: 0.25em;color: #696969;}#sk-container-id-1 label.sk-toggleable__label-arrow:hover:before {color: black;}#sk-container-id-1 div.sk-estimator:hover label.sk-toggleable__label-arrow:before {color: black;}#sk-container-id-1 div.sk-toggleable__content {max-height: 0;max-width: 0;overflow: hidden;text-align: left;background-color: #f0f8ff;}#sk-container-id-1 div.sk-toggleable__content pre {margin: 0.2em;color: black;border-radius: 0.25em;background-color: #f0f8ff;}#sk-container-id-1 input.sk-toggleable__control:checked~div.sk-toggleable__content {max-height: 200px;max-width: 100%;overflow: auto;}#sk-container-id-1 input.sk-toggleable__control:checked~label.sk-toggleable__label-arrow:before {content: \"▾\";}#sk-container-id-1 div.sk-estimator input.sk-toggleable__control:checked~label.sk-toggleable__label {background-color: #d4ebff;}#sk-container-id-1 div.sk-label input.sk-toggleable__control:checked~label.sk-toggleable__label {background-color: #d4ebff;}#sk-container-id-1 input.sk-hidden--visually {border: 0;clip: rect(1px 1px 1px 1px);clip: rect(1px, 1px, 1px, 1px);height: 1px;margin: -1px;overflow: hidden;padding: 0;position: absolute;width: 1px;}#sk-container-id-1 div.sk-estimator {font-family: monospace;background-color: #f0f8ff;border: 1px dotted black;border-radius: 0.25em;box-sizing: border-box;margin-bottom: 0.5em;}#sk-container-id-1 div.sk-estimator:hover {background-color: #d4ebff;}#sk-container-id-1 div.sk-parallel-item::after {content: \"\";width: 100%;border-bottom: 1px solid gray;flex-grow: 1;}#sk-container-id-1 div.sk-label:hover label.sk-toggleable__label {background-color: #d4ebff;}#sk-container-id-1 div.sk-serial::before {content: \"\";position: absolute;border-left: 1px solid gray;box-sizing: border-box;top: 0;bottom: 0;left: 50%;z-index: 0;}#sk-container-id-1 div.sk-serial {display: flex;flex-direction: column;align-items: center;background-color: white;padding-right: 0.2em;padding-left: 0.2em;position: relative;}#sk-container-id-1 div.sk-item {position: relative;z-index: 1;}#sk-container-id-1 div.sk-parallel {display: flex;align-items: stretch;justify-content: center;background-color: white;position: relative;}#sk-container-id-1 div.sk-item::before, #sk-container-id-1 div.sk-parallel-item::before {content: \"\";position: absolute;border-left: 1px solid gray;box-sizing: border-box;top: 0;bottom: 0;left: 50%;z-index: -1;}#sk-container-id-1 div.sk-parallel-item {display: flex;flex-direction: column;z-index: 1;position: relative;background-color: white;}#sk-container-id-1 div.sk-parallel-item:first-child::after {align-self: flex-end;width: 50%;}#sk-container-id-1 div.sk-parallel-item:last-child::after {align-self: flex-start;width: 50%;}#sk-container-id-1 div.sk-parallel-item:only-child::after {width: 0;}#sk-container-id-1 div.sk-dashed-wrapped {border: 1px dashed gray;margin: 0 0.4em 0.5em 0.4em;box-sizing: border-box;padding-bottom: 0.4em;background-color: white;}#sk-container-id-1 div.sk-label label {font-family: monospace;font-weight: bold;display: inline-block;line-height: 1.2em;}#sk-container-id-1 div.sk-label-container {text-align: center;}#sk-container-id-1 div.sk-container {/* jupyter's `normalize.less` sets `[hidden] { display: none; }` but bootstrap.min.css set `[hidden] { display: none !important; }` so we also need the `!important` here to be able to override the default hidden behavior on the sphinx rendered scikit-learn.org. See: https://github.com/scikit-learn/scikit-learn/issues/21755 */display: inline-block !important;position: relative;}#sk-container-id-1 div.sk-text-repr-fallback {display: none;}</style><div id=\"sk-container-id-1\" class=\"sk-top-container\"><div class=\"sk-text-repr-fallback\"><pre>LogisticRegression()</pre><b>In a Jupyter environment, please rerun this cell to show the HTML representation or trust the notebook. <br />On GitHub, the HTML representation is unable to render, please try loading this page with nbviewer.org.</b></div><div class=\"sk-container\" hidden><div class=\"sk-item\"><div class=\"sk-estimator sk-toggleable\"><input class=\"sk-toggleable__control sk-hidden--visually\" id=\"sk-estimator-id-1\" type=\"checkbox\" checked><label for=\"sk-estimator-id-1\" class=\"sk-toggleable__label sk-toggleable__label-arrow\">LogisticRegression</label><div class=\"sk-toggleable__content\"><pre>LogisticRegression()</pre></div></div></div></div></div>"
            ]
          },
          "metadata": {},
          "execution_count": 5
        }
      ]
    },
    {
      "cell_type": "code",
      "source": [
        "# preprocess training data\n",
        "X_test = test_data[['Study Time','Sleep Time']].values\n",
        "# print(X_train)\n",
        "y_train = np.where(train_data['Pass/Fail'] == 'Pass',1,0)\n",
        "print(y_train)"
      ],
      "metadata": {
        "colab": {
          "base_uri": "https://localhost:8080/"
        },
        "id": "FgqdEv4iHaxi",
        "outputId": "c708f059-fcc5-4081-bf1f-97e3d8385324"
      },
      "execution_count": null,
      "outputs": [
        {
          "output_type": "stream",
          "name": "stdout",
          "text": [
            "[1 1 1 1 1 1 1 1 1 1 1 1 0 0 0 1 1 1 1 1 0 0 1 1 0 1 1 1 0 1 1 1 1 1 1 1 0\n",
            " 1 1 0 0 0 1 1 1 0 0 1 0 0 0 0 1 0 1 1 0 1 0 1 1 0 0 0 0 1 1 0 0 1 1 0 1 1\n",
            " 0 0 1]\n"
          ]
        }
      ]
    },
    {
      "cell_type": "code",
      "source": [
        "# Prepare testing data\n",
        "X_test = test_data[['Study Time','Sleep Time']].values\n",
        "y_test = np.where(test_data['Pass/Fail']=='Pass',1,0)\n"
      ],
      "metadata": {
        "id": "lX7leQtbHvq3"
      },
      "execution_count": null,
      "outputs": []
    },
    {
      "cell_type": "code",
      "source": [
        "# prediction on testing data\n",
        "pred_flag = clf.predict(X_test)\n",
        "print(\"Predicted Class: \", pred_flag)\n",
        "print(\"Actual Class: \", y_test)"
      ],
      "metadata": {
        "colab": {
          "base_uri": "https://localhost:8080/"
        },
        "id": "FYc7WcJg7CIY",
        "outputId": "fb13e666-56fd-4663-8101-9fc43f114515"
      },
      "execution_count": null,
      "outputs": [
        {
          "output_type": "stream",
          "name": "stdout",
          "text": [
            "Predicted Class:  [1 1 1 1 1 1 1 1 0 1 0 1 1 1 0 0 0 1 1 0 0 1 0]\n",
            "Actual Class:  [1 1 1 1 1 1 1 1 0 1 0 1 1 1 0 0 0 1 1 0 0 1 0]\n"
          ]
        }
      ]
    },
    {
      "cell_type": "code",
      "source": [
        "# classification accuracy\n",
        "\n",
        "correct_predictions = np.sum(pred_flag == y_test)\n",
        "total_predictions = len(y_test)\n",
        "accuracy = correct_predictions/total_predictions\n",
        "print(\"Accuracy: \", accuracy) # 1.0 = 100% accuracy"
      ],
      "metadata": {
        "colab": {
          "base_uri": "https://localhost:8080/"
        },
        "id": "FcI4OQax78hy",
        "outputId": "cd878c8b-725f-47aa-d8be-001e767725e2"
      },
      "execution_count": null,
      "outputs": [
        {
          "output_type": "stream",
          "name": "stdout",
          "text": [
            "Accuracy:  1.0\n"
          ]
        }
      ]
    },
    {
      "cell_type": "code",
      "source": [
        "# probablity informaton\n",
        "pred_prob = clf.predict_proba(X_test) # this function use to calculate the probablity\n",
        "print(\"Predicted probablity: \\n\", pred_prob)"
      ],
      "metadata": {
        "colab": {
          "base_uri": "https://localhost:8080/"
        },
        "id": "GXVu4IGz9wAM",
        "outputId": "3db9b534-838e-4129-cb1c-bda63887e414"
      },
      "execution_count": null,
      "outputs": [
        {
          "output_type": "stream",
          "name": "stdout",
          "text": [
            "Predicted probablity: \n",
            " [[2.10554888e-01 7.89445112e-01]\n",
            " [1.49309043e-05 9.99985069e-01]\n",
            " [1.36760476e-06 9.99998632e-01]\n",
            " [1.13606883e-05 9.99988639e-01]\n",
            " [5.93543265e-04 9.99406457e-01]\n",
            " [1.14423418e-02 9.88557658e-01]\n",
            " [3.50005818e-01 6.49994182e-01]\n",
            " [6.78716547e-02 9.32128345e-01]\n",
            " [9.88234166e-01 1.17658344e-02]\n",
            " [6.63026070e-02 9.33697393e-01]\n",
            " [9.94201035e-01 5.79896484e-03]\n",
            " [1.13035823e-07 9.99999887e-01]\n",
            " [1.01873366e-01 8.98126634e-01]\n",
            " [3.53476659e-03 9.96465233e-01]\n",
            " [9.99827461e-01 1.72539495e-04]\n",
            " [8.99228162e-01 1.00771838e-01]\n",
            " [9.98990840e-01 1.00915968e-03]\n",
            " [1.65011788e-01 8.34988212e-01]\n",
            " [1.32758999e-02 9.86724100e-01]\n",
            " [9.98218688e-01 1.78131229e-03]\n",
            " [9.99889684e-01 1.10315737e-04]\n",
            " [1.02277429e-05 9.99989772e-01]\n",
            " [9.99902969e-01 9.70314918e-05]]\n"
          ]
        }
      ]
    },
    {
      "cell_type": "code",
      "source": [],
      "metadata": {
        "id": "uid2UNv7-Gat"
      },
      "execution_count": null,
      "outputs": []
    }
  ]
}